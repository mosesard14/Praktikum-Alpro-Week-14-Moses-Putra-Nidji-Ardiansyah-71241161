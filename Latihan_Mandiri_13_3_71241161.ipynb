{
  "nbformat": 4,
  "nbformat_minor": 0,
  "metadata": {
    "colab": {
      "provenance": [],
      "authorship_tag": "ABX9TyMGf3Ikszt99xrXV230mL4y",
      "include_colab_link": true
    },
    "kernelspec": {
      "name": "python3",
      "display_name": "Python 3"
    },
    "language_info": {
      "name": "python"
    }
  },
  "cells": [
    {
      "cell_type": "markdown",
      "metadata": {
        "id": "view-in-github",
        "colab_type": "text"
      },
      "source": [
        "<a href=\"https://colab.research.google.com/github/mosesard14/Praktikum-Alpro-Week-14-Moses-Putra-Nidji-Ardiansyah-71241161/blob/main/Latihan_Mandiri_13_3_71241161.ipynb\" target=\"_parent\"><img src=\"https://colab.research.google.com/assets/colab-badge.svg\" alt=\"Open In Colab\"/></a>"
      ]
    },
    {
      "cell_type": "code",
      "execution_count": 2,
      "metadata": {
        "colab": {
          "base_uri": "https://localhost:8080/"
        },
        "id": "XAszmimGtoHI",
        "outputId": "d5cef250-869c-44a1-ed5d-8880703d08ec"
      },
      "outputs": [
        {
          "output_type": "stream",
          "name": "stdout",
          "text": [
            "Masukkan nama file pertama: liru.txt\n",
            "Masukkan nama file kedua: aert.txt\n",
            "Error: File 'liru.txt' tidak ditemukan.\n",
            "Error: File 'aert.txt' tidak ditemukan.\n"
          ]
        }
      ],
      "source": [
        "def baca_kata_dari_file(namafile):\n",
        "    try:\n",
        "        with open(namafile, 'r') as file:\n",
        "            teks = file.read().lower()\n",
        "            kata = set(text.split())\n",
        "            return kata\n",
        "    except FileNotFoundError:\n",
        "        print(f\"Error: File '{namafile}' tidak ditemukan.\")\n",
        "        return None\n",
        "    except I/OError:\n",
        "        print(f\"Error: Tidak bisa membaca file '{namafile}'.\")\n",
        "        return None\n",
        "\n",
        "file1 = input(\"Masukkan nama file pertama: \")\n",
        "file2 = input(\"Masukkan nama file kedua: \")\n",
        "\n",
        "kata_file1 = baca_kata_dari_file(file1)\n",
        "kata_file2 = baca_kata_dari_file(file2)\n",
        "\n",
        "if kata_file1 is not None and kata_file2 is not None:\n",
        "    kata_umum = kata_file1 & kata_file2\n",
        "    print(\"\\nKata-kata yang muncul di KEDUA file:\")\n",
        "    if kata_umum:\n",
        "        for i in sorted(kata_umum):\n",
        "            print(\"-\", i)\n",
        "    else:\n",
        "        print(\"Tidak ada kata yang sama di kedua file.\")\n"
      ]
    }
  ]
}