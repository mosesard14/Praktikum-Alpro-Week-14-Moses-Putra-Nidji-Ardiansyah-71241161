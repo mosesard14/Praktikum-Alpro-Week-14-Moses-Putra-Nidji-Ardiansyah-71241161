{
  "nbformat": 4,
  "nbformat_minor": 0,
  "metadata": {
    "colab": {
      "provenance": [],
      "authorship_tag": "ABX9TyMqeF6rgmU8DHBxjioj/i+x",
      "include_colab_link": true
    },
    "kernelspec": {
      "name": "python3",
      "display_name": "Python 3"
    },
    "language_info": {
      "name": "python"
    }
  },
  "cells": [
    {
      "cell_type": "markdown",
      "metadata": {
        "id": "view-in-github",
        "colab_type": "text"
      },
      "source": [
        "<a href=\"https://colab.research.google.com/github/mosesard14/Praktikum-Alpro-Week-14-Moses-Putra-Nidji-Ardiansyah-71241161/blob/main/Latihan_Mandiri_13%2C1_71241161.ipynb\" target=\"_parent\"><img src=\"https://colab.research.google.com/assets/colab-badge.svg\" alt=\"Open In Colab\"/></a>"
      ]
    },
    {
      "cell_type": "code",
      "execution_count": 3,
      "metadata": {
        "colab": {
          "base_uri": "https://localhost:8080/"
        },
        "id": "ofChRY5dyvOE",
        "outputId": "81a0c545-6164-422b-fbdc-67fbfc2f4438"
      },
      "outputs": [
        {
          "output_type": "stream",
          "name": "stdout",
          "text": [
            "Masukkan jumlah kategori: 2\n",
            "\n",
            "Masukkan nama kategori ke-1: Finanace\n",
            "Masukkan 5 nama aplikasi di kategori \"Finanace\"\n",
            "  Nama aplikasi ke-1: RTI saham\n",
            "  Nama aplikasi ke-2: mirae\n",
            "  Nama aplikasi ke-3: ipot\n",
            "  Nama aplikasi ke-4: poems\n",
            "  Nama aplikasi ke-5: calculator\n",
            "\n",
            "Masukkan nama kategori ke-2: Utilitines\n",
            "Masukkan 5 nama aplikasi di kategori \"Utilitines\"\n",
            "  Nama aplikasi ke-1: Photos\n",
            "  Nama aplikasi ke-2: Weather\n",
            "  Nama aplikasi ke-3: Calculator\n",
            "  Nama aplikasi ke-4: Camera\n",
            "  Nama aplikasi ke-5: Notes\n",
            "\n",
            "Daftar aplikasi per kategori:\n",
            "- Finanace: ['rti saham', 'mirae', 'ipot', 'poems', 'calculator']\n",
            "- Utilitines: ['photos', 'weather', 'calculator', 'camera', 'notes']\n",
            "\n",
            "Aplikasi yang muncul di SEMUA kategori:\n",
            "{'calculator'}\n",
            "\n",
            "Aplikasi yang hanya muncul di SATU kategori:\n",
            "{'ipot', 'photos', 'rti saham', 'mirae', 'poems', 'notes', 'camera', 'weather'}\n"
          ]
        }
      ],
      "source": [
        "# Input jumlah kategori\n",
        "n = int(input('Masukkan jumlah kategori: '))\n",
        "\n",
        "# Dictionary untuk menyimpan data aplikasi per kategori\n",
        "data_aplikasi = {}\n",
        "\n",
        "# Input nama kategori dan aplikasinya\n",
        "for i in range(n):\n",
        "    nama_kategori = input(f'\\nMasukkan nama kategori ke-{i+1}: ')\n",
        "    print(f'Masukkan 5 nama aplikasi di kategori \"{nama_kategori}\"')\n",
        "    aplikasi = []\n",
        "    for j in range(5):\n",
        "        nama_aplikasi = input(f'  Nama aplikasi ke-{j+1}: ').strip().lower()\n",
        "        aplikasi.append(nama_aplikasi)\n",
        "    data_aplikasi[nama_kategori] = aplikasi\n",
        "\n",
        "# Tampilkan isi dictionary\n",
        "print(\"\\nDaftar aplikasi per kategori:\")\n",
        "for kategori, apps in data_aplikasi.items():\n",
        "    print(f\"- {kategori}: {apps}\")\n",
        "\n",
        "# Buat list berisi set aplikasi tiap kategori\n",
        "daftar_aplikasi_list = []\n",
        "for aplikasi in data_aplikasi.values():\n",
        "    daftar_aplikasi_list.append(set(aplikasi))\n",
        "\n",
        "# Cari aplikasi yang muncul di SEMUA kategori\n",
        "hasil = daftar_aplikasi_list[0]\n",
        "for i in range(1, len(daftar_aplikasi_list)):\n",
        "    hasil = hasil.intersection(daftar_aplikasi_list[i])\n",
        "\n",
        "print(\"\\nAplikasi yang muncul di SEMUA kategori:\")\n",
        "if hasil:\n",
        "    print(hasil)\n",
        "else:\n",
        "    print(\"Tidak ada aplikasi yang muncul di semua kategori.\")\n",
        "\n",
        "# Gabungkan semua aplikasi ke dalam satu list\n",
        "semua_aplikasi = []\n",
        "for aplikasi in data_aplikasi.values():\n",
        "    semua_aplikasi += aplikasi\n",
        "\n",
        "# Hitung kemunculan setiap aplikasi (tanpa import)\n",
        "frekuensi = {}\n",
        "for app in semua_aplikasi:\n",
        "    if app in frekuensi:\n",
        "        frekuensi[app] += 1\n",
        "    else:\n",
        "        frekuensi[app] = 1\n",
        "\n",
        "# Aplikasi yang hanya muncul di satu kategori\n",
        "hanya_satu = []\n",
        "for app in frekuensi:\n",
        "    if frekuensi[app] == 1:\n",
        "        hanya_satu.append(app)\n",
        "\n",
        "print(\"\\nAplikasi yang hanya muncul di SATU kategori:\")\n",
        "if hanya_satu:\n",
        "    print(set(hanya_satu))\n",
        "else:\n",
        "    print(\"Tidak ada.\")\n",
        "\n",
        "# Aplikasi yang muncul tepat di dua kategori (hanya jika n > 2)\n",
        "if n > 2:\n",
        "    tepat_dua = []\n",
        "    for app in frekuensi:\n",
        "        if frekuensi[app] == 2:\n",
        "            tepat_dua.append(app)\n",
        "    print(\"\\nAplikasi yang muncul TEPAT di DUA kategori:\")\n",
        "    if tepat_dua:\n",
        "        print(set(tepat_dua))\n",
        "    else:\n",
        "        print(\"Tidak ada.\")\n"
      ]
    }
  ]
}