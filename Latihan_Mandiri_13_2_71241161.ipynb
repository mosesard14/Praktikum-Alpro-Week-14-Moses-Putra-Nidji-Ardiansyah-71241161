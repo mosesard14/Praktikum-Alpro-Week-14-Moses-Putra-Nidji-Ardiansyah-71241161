{
  "nbformat": 4,
  "nbformat_minor": 0,
  "metadata": {
    "colab": {
      "provenance": [],
      "authorship_tag": "ABX9TyNrsrGrTWOpJkphGg5gbbrW",
      "include_colab_link": true
    },
    "kernelspec": {
      "name": "python3",
      "display_name": "Python 3"
    },
    "language_info": {
      "name": "python"
    }
  },
  "cells": [
    {
      "cell_type": "markdown",
      "metadata": {
        "id": "view-in-github",
        "colab_type": "text"
      },
      "source": [
        "<a href=\"https://colab.research.google.com/github/mosesard14/Praktikum-Alpro-Week-14-Moses-Putra-Nidji-Ardiansyah-71241161/blob/main/Latihan_Mandiri_13_2_71241161.ipynb\" target=\"_parent\"><img src=\"https://colab.research.google.com/assets/colab-badge.svg\" alt=\"Open In Colab\"/></a>"
      ]
    },
    {
      "cell_type": "code",
      "execution_count": 10,
      "metadata": {
        "colab": {
          "base_uri": "https://localhost:8080/"
        },
        "id": "D2vIim3OmI4_",
        "outputId": "e794c599-816d-413f-ca4e-d901af20be3c"
      },
      "outputs": [
        {
          "output_type": "stream",
          "name": "stdout",
          "text": [
            "====Program Konversi====\n",
            "List menjadi Set\n",
            "Sebelum (List): [1, 2, 3, 2, 4, 5, 1, 2]\n",
            "Sesudah (Set): {1, 2, 3, 4, 5}\n",
            "\n",
            "Set menjadi List\n",
            "Sebelum (Set): {40, 10, 20, 30}\n",
            "Sesudah (List): [40, 10, 20, 30]\n",
            "\n",
            "Tuple menjadi Set\n",
            "Sebelum (Tuple): (7, 8, 9, 7, 9, 10)\n",
            "Sesudah (Set): {8, 9, 10, 7}\n",
            "\n",
            "Set menjadi Tuple\n",
            "Sebelum (Set): {200, 100, 300}\n",
            "Sesudah (Tuple): (200, 100, 300)\n",
            "\n"
          ]
        }
      ],
      "source": [
        "print('====Program Konversi====')\n",
        "\n",
        "print('List menjadi Set')\n",
        "list1 = [1, 2, 3, 2, 4, 5, 1, 2]\n",
        "print(f'Sebelum (List): {list1}')\n",
        "list_ke_set = set(list1)\n",
        "print(f'Sesudah (Set): {list_ke_set}')\n",
        "print()\n",
        "\n",
        "print('Set menjadi List')\n",
        "set1 = {10, 20, 30, 40}\n",
        "print(f'Sebelum (Set): {set1}')\n",
        "set_ke_list = list(set1)\n",
        "print(f'Sesudah (List): {set_ke_list}')\n",
        "print()\n",
        "\n",
        "print('Tuple menjadi Set')\n",
        "tuple1 = (7, 8, 9, 7, 9, 10)\n",
        "print(f'Sebelum (Tuple): {tuple1}')\n",
        "tuple_ke_set = set(tuple1)\n",
        "print(f'Sesudah (Set): {tuple_ke_set}')\n",
        "print()\n",
        "\n",
        "print('Set menjadi Tuple')\n",
        "set2 = {100, 200, 300}\n",
        "print(f'Sebelum (Set): {set2}')\n",
        "set_ke_tuple = tuple(set2)\n",
        "print(f'Sesudah (Tuple): {set_ke_tuple}')\n",
        "print()"
      ]
    }
  ]
}